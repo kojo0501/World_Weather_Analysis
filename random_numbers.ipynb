{
 "cells": [
  {
   "cell_type": "code",
   "execution_count": 1,
   "id": "00697b1f",
   "metadata": {},
   "outputs": [],
   "source": [
    "# Import the random module.\n",
    "import random"
   ]
  },
  {
   "cell_type": "code",
   "execution_count": 2,
   "id": "35aa6e69",
   "metadata": {},
   "outputs": [
    {
     "data": {
      "text/plain": [
       "-31"
      ]
     },
     "execution_count": 2,
     "metadata": {},
     "output_type": "execute_result"
    }
   ],
   "source": [
    "random.randint(-90,90)"
   ]
  },
  {
   "cell_type": "code",
   "execution_count": 3,
   "id": "871c3798",
   "metadata": {},
   "outputs": [
    {
     "data": {
      "text/plain": [
       "0.4693436209342655"
      ]
     },
     "execution_count": 3,
     "metadata": {},
     "output_type": "execute_result"
    }
   ],
   "source": [
    "random.random()"
   ]
  },
  {
   "cell_type": "code",
   "execution_count": 4,
   "id": "c63a956e",
   "metadata": {},
   "outputs": [
    {
     "data": {
      "text/plain": [
       "-76.01735224656238"
      ]
     },
     "execution_count": 4,
     "metadata": {},
     "output_type": "execute_result"
    }
   ],
   "source": [
    "random_number = random.randint(-90,89) + random.random()\n",
    "random_number"
   ]
  },
  {
   "cell_type": "code",
   "execution_count": 7,
   "id": "9f981a1c",
   "metadata": {},
   "outputs": [
    {
     "data": {
      "text/plain": [
       "[54.018257627101036,\n",
       " -7.4493145892351365,\n",
       " -49.36701208142551,\n",
       " 89.79234390202413,\n",
       " 58.77842411839179,\n",
       " 73.74435857983828,\n",
       " 31.27354898425122,\n",
       " 43.57241001890628,\n",
       " -75.6220055747098,\n",
       " 6.445546363591435]"
      ]
     },
     "execution_count": 7,
     "metadata": {},
     "output_type": "execute_result"
    }
   ],
   "source": [
    "x = 1\n",
    "latitudes = []\n",
    "while x < 11:\n",
    "    random_lat = random.randint(-90, 89) + random.random()\n",
    "    latitudes.append(random_lat)\n",
    "    x += 1\n",
    "\n",
    "latitudes[0:10]"
   ]
  },
  {
   "cell_type": "code",
   "execution_count": 8,
   "id": "0303fb2d",
   "metadata": {},
   "outputs": [
    {
     "data": {
      "text/plain": [
       "14"
      ]
     },
     "execution_count": 8,
     "metadata": {},
     "output_type": "execute_result"
    }
   ],
   "source": [
    "random.randrange(-90,90, step=1)"
   ]
  },
  {
   "cell_type": "code",
   "execution_count": 9,
   "id": "5bb52b34",
   "metadata": {},
   "outputs": [
    {
     "data": {
      "text/plain": [
       "69"
      ]
     },
     "execution_count": 9,
     "metadata": {},
     "output_type": "execute_result"
    }
   ],
   "source": [
    "random.randrange(-90,90, step=3)"
   ]
  },
  {
   "cell_type": "code",
   "execution_count": 10,
   "id": "d9b90819",
   "metadata": {},
   "outputs": [
    {
     "data": {
      "text/plain": [
       "-53.50210217928991"
      ]
     },
     "execution_count": 10,
     "metadata": {},
     "output_type": "execute_result"
    }
   ],
   "source": [
    "random.uniform(-90,90)"
   ]
  },
  {
   "cell_type": "code",
   "execution_count": 11,
   "id": "418dc15a",
   "metadata": {},
   "outputs": [],
   "source": [
    "import numpy as np"
   ]
  },
  {
   "cell_type": "code",
   "execution_count": 12,
   "id": "083b0c5a",
   "metadata": {},
   "outputs": [
    {
     "data": {
      "text/plain": [
       "-63.75754514974389"
      ]
     },
     "execution_count": 12,
     "metadata": {},
     "output_type": "execute_result"
    }
   ],
   "source": [
    "np.random.uniform(-90.000, 90.000)"
   ]
  },
  {
   "cell_type": "code",
   "execution_count": 13,
   "id": "a6db4474",
   "metadata": {},
   "outputs": [
    {
     "data": {
      "text/plain": [
       "-67.95414721567215"
      ]
     },
     "execution_count": 13,
     "metadata": {},
     "output_type": "execute_result"
    }
   ],
   "source": [
    "np.random.uniform(low=-90,high=90)"
   ]
  },
  {
   "cell_type": "code",
   "execution_count": 14,
   "id": "92c7ccd6",
   "metadata": {},
   "outputs": [
    {
     "data": {
      "text/plain": [
       "array([-66.37441252,  89.79970895,  65.07554068, -20.75705808,\n",
       "        60.42526648,  84.12332162, -58.75424602, -17.80225349,\n",
       "       -79.33404676, -12.4166419 ,  19.62656319,  18.33580429,\n",
       "       -15.48401931,  55.34683966,   4.3878625 ,  61.86349072,\n",
       "       -17.87319113,  69.81583717,  75.14807184,  25.10725864,\n",
       "       -19.7552197 , -51.08937755, -50.86705308,  86.26665577,\n",
       "        18.06434509, -63.51466986,   3.56229638, -69.91691768,\n",
       "       -78.39175192,  32.97946139,  -7.65929229,  79.38097548,\n",
       "        19.51378267, -77.83645351,  -1.07277495, -18.3098825 ,\n",
       "        64.00018625,  49.05549704,  77.87090258, -71.58680795,\n",
       "        18.61670878, -82.7252753 , -77.01034621,  70.55104078,\n",
       "        80.64017845, -44.01841709,  39.26022331, -11.00315888,\n",
       "        12.96286985,  79.03762425])"
      ]
     },
     "execution_count": 14,
     "metadata": {},
     "output_type": "execute_result"
    }
   ],
   "source": [
    "np.random.uniform(-90.000,90.000, size=50)"
   ]
  },
  {
   "cell_type": "code",
   "execution_count": 16,
   "id": "853e6f5a",
   "metadata": {},
   "outputs": [],
   "source": [
    "# Import timeit.\n",
    "import timeit"
   ]
  },
  {
   "cell_type": "code",
   "execution_count": 17,
   "id": "68812ada",
   "metadata": {},
   "outputs": [
    {
     "name": "stdout",
     "output_type": "stream",
     "text": [
      "12.3 µs ± 119 ns per loop (mean ± std. dev. of 7 runs, 100000 loops each)\n"
     ]
    }
   ],
   "source": [
    "%timeit np.random.uniform(-90.000, 90.000, size=1500)"
   ]
  },
  {
   "cell_type": "code",
   "execution_count": 18,
   "id": "d0da4f49",
   "metadata": {},
   "outputs": [
    {
     "name": "stdout",
     "output_type": "stream",
     "text": [
      "1.47 ms ± 20.8 µs per loop (mean ± std. dev. of 7 runs, 1000 loops each)\n"
     ]
    }
   ],
   "source": [
    "def latitudes(size):\n",
    "    latitudes = []\n",
    "    x = 0\n",
    "    while x < (size):\n",
    "        random_lat = random.randint(-90, 90) + random.random()\n",
    "        latitudes.append(random_lat)\n",
    "        x += 1\n",
    "    return latitudes\n",
    "# Call the function with 1500.\n",
    "%timeit latitudes(1500)"
   ]
  },
  {
   "cell_type": "code",
   "execution_count": null,
   "id": "e066f69c",
   "metadata": {},
   "outputs": [],
   "source": []
  }
 ],
 "metadata": {
  "kernelspec": {
   "display_name": "PythonData",
   "language": "python",
   "name": "pythondata"
  },
  "language_info": {
   "codemirror_mode": {
    "name": "ipython",
    "version": 3
   },
   "file_extension": ".py",
   "mimetype": "text/x-python",
   "name": "python",
   "nbconvert_exporter": "python",
   "pygments_lexer": "ipython3",
   "version": "3.7.10"
  }
 },
 "nbformat": 4,
 "nbformat_minor": 5
}
